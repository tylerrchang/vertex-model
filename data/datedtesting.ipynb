{
 "cells": [
  {
   "cell_type": "code",
   "execution_count": 151,
   "metadata": {},
   "outputs": [],
   "source": [
    "import matplotlib.pyplot as plt\n",
    "import numpy as np\n",
    "import random\n",
    "import copy\n",
    "%run vertex_math.ipynb     #this is were my function was stored\n",
    "                 #then simply run the function\n",
    "\n",
    "%matplotlib inline\n",
    "# https://github.com/alsignoriello/active_vertex_model/blob/master/plot.py"
   ]
  },
  {
   "cell_type": "code",
   "execution_count": 125,
   "metadata": {},
   "outputs": [],
   "source": [
    "# create verticies list\n",
    "vertices = []\n",
    "with open(\"random_network.csv\") as f:\n",
    "    data = f.read()\n",
    "    for row in data.split(\"\\n\"):\n",
    "        vertices.append((float(row.split(\",\")[0]), float(row.split(\",\")[1])))"
   ]
  },
  {
   "cell_type": "code",
   "execution_count": 117,
   "metadata": {},
   "outputs": [
    {
     "data": {
      "text/plain": [
       "[[1, 2, 42, 41, 48, 8],\n",
       " [1, 8, 7, 15, 16, 9],\n",
       " [1, 9, 10, 11, 3, 2],\n",
       " [2, 3, 4, 44, 43, 42],\n",
       " [3, 11, 12, 13, 5, 4],\n",
       " [4, 5, 6, 46, 45, 44],\n",
       " [5, 13, 14, 15, 7, 6],\n",
       " [6, 7, 8, 48, 47, 46],\n",
       " [9, 16, 24, 17, 18, 10],\n",
       " [10, 18, 19, 20, 12, 11],\n",
       " [12, 20, 21, 22, 14, 13],\n",
       " [14, 22, 23, 24, 16, 15],\n",
       " [17, 24, 23, 31, 32, 25],\n",
       " [17, 25, 26, 27, 19, 18],\n",
       " [19, 27, 28, 29, 21, 20],\n",
       " [21, 29, 30, 31, 23, 22],\n",
       " [25, 32, 40, 33, 34, 26],\n",
       " [26, 34, 35, 36, 28, 27],\n",
       " [28, 36, 37, 38, 30, 29],\n",
       " [30, 38, 39, 40, 32, 31],\n",
       " [33, 40, 39, 47, 48, 41],\n",
       " [33, 41, 42, 43, 35, 34],\n",
       " [35, 43, 44, 45, 37, 36],\n",
       " [37, 45, 46, 47, 39, 38]]"
      ]
     },
     "execution_count": 117,
     "metadata": {},
     "output_type": "execute_result"
    }
   ],
   "source": [
    "poly_points = []\n",
    "with open(\"random_network_cells.csv\") as f:\n",
    "    data = f.read()\n",
    "    for row in data.split(\"\\n\"):\n",
    "        nums = row.split(\",\")\n",
    "        temp_list = []\n",
    "        for num in nums:\n",
    "            temp_list.append(int(num))\n",
    "        poly_points.append(temp_list)\n",
    "poly_points"
   ]
  },
  {
   "cell_type": "code",
   "execution_count": 150,
   "metadata": {},
   "outputs": [
    {
     "data": {
      "text/plain": [
       "[1, 2, 42, 41, 48, 8]"
      ]
     },
     "execution_count": 150,
     "metadata": {},
     "output_type": "execute_result"
    }
   ],
   "source": [
    "vertices_sub = []\n",
    "for i in range(len(vertices)):\n",
    "    if i in [0, 1, 41, 40, 47, 7]:\n",
    "        vertices_sub.append(vertices[i])\n",
    "\n",
    "vertices_sub\n",
    "poly_sub = poly_points[0]"
   ]
  },
  {
   "cell_type": "code",
   "execution_count": 153,
   "metadata": {},
   "outputs": [
    {
     "data": {
      "text/plain": [
       "[(0.930866, 0.271744),\n",
       " (0.116862, 0.802272),\n",
       " (-0.064818, 4.652581),\n",
       " (4.703293, 0.511607),\n",
       " (5.243425, 0.469836),\n",
       " (4.917538, 4.471589)]"
      ]
     },
     "execution_count": 153,
     "metadata": {},
     "output_type": "execute_result"
    }
   ],
   "source": [
    "vertices_sub"
   ]
  },
  {
   "cell_type": "code",
   "execution_count": 1,
   "metadata": {},
   "outputs": [
    {
     "ename": "NameError",
     "evalue": "name 'plt' is not defined",
     "output_type": "error",
     "traceback": [
      "\u001b[0;31m---------------------------------------------------------------------------\u001b[0m",
      "\u001b[0;31mNameError\u001b[0m                                 Traceback (most recent call last)",
      "Cell \u001b[0;32mIn[1], line 1\u001b[0m\n\u001b[0;32m----> 1\u001b[0m fig \u001b[38;5;241m=\u001b[39m \u001b[43mplt\u001b[49m\u001b[38;5;241m.\u001b[39mfigure(figsize\u001b[38;5;241m=\u001b[39m(\u001b[38;5;241m5\u001b[39m,\u001b[38;5;241m5\u001b[39m))\n\u001b[1;32m      2\u001b[0m ax \u001b[38;5;241m=\u001b[39m fig\u001b[38;5;241m.\u001b[39madd_subplot(\u001b[38;5;241m1\u001b[39m, \u001b[38;5;241m1\u001b[39m, \u001b[38;5;241m1\u001b[39m)\n\u001b[1;32m      3\u001b[0m \u001b[38;5;66;03m# plot vertices\u001b[39;00m\n",
      "\u001b[0;31mNameError\u001b[0m: name 'plt' is not defined"
     ]
    }
   ],
   "source": [
    "fig = plt.figure(figsize=(5,5))\n",
    "ax = fig.add_subplot(1, 1, 1)\n",
    "# plot vertices\n",
    "for x,y in vertices_sub:\n",
    "    ax.scatter(x, y, color=\"b\")\n",
    "    \n",
    "# plot polygons\n",
    "\n",
    "# create new list\n",
    "#poly_sub = new \n",
    "# remove first item from list\n",
    "# find closest point to it\n",
    "# draw line to closest point\n",
    "# REPEAT\n",
    "vert_list = copy.deepcopy(vert_list_orig)\n",
    "vert = vert_list.pop()\n",
    "print(vert)\n",
    "while len(vert_list) != 0:\n",
    "    next = vert_list.pop(vert_list.index(find_nearest_vertex(vert, vert_list)))\n",
    "    ax.plot([vert[0], next[0]], [vert[1], next[1]])\n",
    "    vert = next\n",
    "#for v in poly_sub:"
   ]
  },
  {
   "cell_type": "code",
   "execution_count": 137,
   "metadata": {},
   "outputs": [
    {
     "name": "stdout",
     "output_type": "stream",
     "text": [
      "hi\n"
     ]
    }
   ],
   "source": [
    "nearest_vertex(1, 1)"
   ]
  },
  {
   "cell_type": "code",
   "execution_count": 2,
   "metadata": {},
   "outputs": [
    {
     "ename": "NameError",
     "evalue": "name 'vertices_sub' is not defined",
     "output_type": "error",
     "traceback": [
      "\u001b[0;31m---------------------------------------------------------------------------\u001b[0m",
      "\u001b[0;31mNameError\u001b[0m                                 Traceback (most recent call last)",
      "Cell \u001b[0;32mIn[2], line 1\u001b[0m\n\u001b[0;32m----> 1\u001b[0m \u001b[43mvertices_sub\u001b[49m\u001b[38;5;241m.\u001b[39mpop()\n",
      "\u001b[0;31mNameError\u001b[0m: name 'vertices_sub' is not defined"
     ]
    }
   ],
   "source": [
    "vertices_sub.pop()"
   ]
  },
  {
   "cell_type": "code",
   "execution_count": 145,
   "metadata": {},
   "outputs": [
    {
     "data": {
      "text/plain": [
       "[(0.930866, 0.271744),\n",
       " (0.116862, 0.802272),\n",
       " (-0.064818, 4.652581),\n",
       " (4.703293, 0.511607),\n",
       " (5.243425, 0.469836),\n",
       " (4.917538, 4.471589)]"
      ]
     },
     "execution_count": 145,
     "metadata": {},
     "output_type": "execute_result"
    }
   ],
   "source": [
    "vertices_sub"
   ]
  },
  {
   "cell_type": "code",
   "execution_count": 146,
   "metadata": {},
   "outputs": [],
   "source": [
    "v = []"
   ]
  },
  {
   "cell_type": "code",
   "execution_count": 147,
   "metadata": {},
   "outputs": [
    {
     "ename": "IndexError",
     "evalue": "pop from empty list",
     "output_type": "error",
     "traceback": [
      "\u001b[0;31m---------------------------------------------------------------------------\u001b[0m",
      "\u001b[0;31mIndexError\u001b[0m                                Traceback (most recent call last)",
      "Cell \u001b[0;32mIn[147], line 1\u001b[0m\n\u001b[0;32m----> 1\u001b[0m v\u001b[38;5;241m.\u001b[39mpop()\n",
      "\u001b[0;31mIndexError\u001b[0m: pop from empty list"
     ]
    }
   ],
   "source": [
    "v.pop()"
   ]
  },
  {
   "cell_type": "code",
   "execution_count": null,
   "metadata": {},
   "outputs": [],
   "source": []
  }
 ],
 "metadata": {
  "kernelspec": {
   "display_name": "Python 3 (ipykernel)",
   "language": "python",
   "name": "python3"
  },
  "language_info": {
   "codemirror_mode": {
    "name": "ipython",
    "version": 3
   },
   "file_extension": ".py",
   "mimetype": "text/x-python",
   "name": "python",
   "nbconvert_exporter": "python",
   "pygments_lexer": "ipython3",
   "version": "3.12.2"
  }
 },
 "nbformat": 4,
 "nbformat_minor": 4
}
